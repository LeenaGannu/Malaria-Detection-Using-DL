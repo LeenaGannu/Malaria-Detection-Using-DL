{
  "nbformat": 4,
  "nbformat_minor": 0,
  "metadata": {
    "colab": {
      "name": "ourcnncustom_model.ipynb",
      "provenance": [],
      "authorship_tag": "ABX9TyOwZx50alo857tzTlwxHVIv",
      "include_colab_link": true
    },
    "kernelspec": {
      "name": "python3",
      "display_name": "Python 3"
    },
    "language_info": {
      "name": "python"
    }
  },
  "cells": [
    {
      "cell_type": "markdown",
      "metadata": {
        "id": "view-in-github",
        "colab_type": "text"
      },
      "source": [
        "<a href=\"https://colab.research.google.com/github/LeenaGannu/Malaria-Detection-Using-DL/blob/main/ourcnncustom_model.ipynb\" target=\"_parent\"><img src=\"https://colab.research.google.com/assets/colab-badge.svg\" alt=\"Open In Colab\"/></a>"
      ]
    },
    {
      "cell_type": "code",
      "execution_count": 1,
      "metadata": {
        "id": "NilnMZ3y0Hos"
      },
      "outputs": [],
      "source": [
        "import numpy as np \n",
        "import pandas as pd \n",
        "import os\n"
      ]
    },
    {
      "cell_type": "code",
      "source": [
        "import os\n",
        "import pandas as pd\n",
        "import numpy as np\n",
        "import matplotlib.pyplot as plt\n",
        "%matplotlib inline\n",
        "import seaborn as sns\n",
        "import warnings\n",
        "warnings.filterwarnings(action=\"ignore\")\n",
        "from matplotlib.image import imread\n",
        "from sklearn.metrics import classification_report\n",
        "#tensorflow modules\n",
        "import tensorflow as tf\n",
        "from tensorflow.keras.models import Sequential\n",
        "from tensorflow.keras.layers import Dense, Conv2D, MaxPooling2D, Dropout, Flatten\n",
        "from tensorflow.keras.optimizers import Adam\n",
        "from tensorflow.keras.preprocessing.image import ImageDataGenerator\n",
        "from tensorflow.keras.callbacks import EarlyStopping\n"
      ],
      "metadata": {
        "id": "aYsX4xqa0N09"
      },
      "execution_count": 2,
      "outputs": []
    },
    {
      "cell_type": "code",
      "source": [
        "data = \"../input/cell-images-for-detecting-malaria/cell_images/cell_images/\"\n"
      ],
      "metadata": {
        "id": "nMYkGLOC0SDi"
      },
      "execution_count": null,
      "outputs": []
    },
    {
      "cell_type": "code",
      "source": [
        "os.listdir(data)\n"
      ],
      "metadata": {
        "id": "dPQbQgt-_dSz"
      },
      "execution_count": null,
      "outputs": []
    },
    {
      "cell_type": "code",
      "source": [
        "uninfected = len(os.listdir(\"../input/cell-images-for-detecting-malaria/cell_images/cell_images/Uninfected\"))\n",
        "parasitized = len(os.listdir(\"../input/cell-images-for-detecting-malaria/cell_images/cell_images/Parasitized\"))\n",
        "print(\"Uninfected: \",uninfected)\n",
        "print(\"Parasitized: \", parasitized)\n"
      ],
      "metadata": {
        "id": "E4PJ_hyW_deD"
      },
      "execution_count": null,
      "outputs": []
    },
    {
      "cell_type": "code",
      "source": [
        "parasitized_data = os.listdir(\"../input/cell-images-for-detecting-malaria/cell_images/cell_images/Parasitized\")\n"
      ],
      "metadata": {
        "id": "o4OjCAuF-2cE"
      },
      "execution_count": null,
      "outputs": []
    },
    {
      "cell_type": "code",
      "source": [
        "sh=data+\"/Parasitized\"+\"/C99P60ThinF_IMG_20150918_141001_cell_133.png\"\n",
        "print(\"Shape of image: \",imread(sh).shape)\n"
      ],
      "metadata": {
        "id": "IycIpQT5-2qh"
      },
      "execution_count": null,
      "outputs": []
    },
    {
      "cell_type": "code",
      "source": [
        "image_gen = ImageDataGenerator(rotation_range=20,\n",
        "                               width_shift_range=0.1,\n",
        "                               shear_range=0.1,\n",
        "                               fill_mode=\"nearest\")\n"
      ],
      "metadata": {
        "id": "4Jijf4dp-21k"
      },
      "execution_count": null,
      "outputs": []
    },
    {
      "cell_type": "code",
      "source": [
        "train = tf.keras.preprocessing.image_dataset_from_directory(data,\n",
        "                                                            validation_split=0.2,\n",
        "                                                            seed=123,\n",
        "                                                            subset=\"training\",\n",
        "                                                            image_size=(134,131),\n",
        "                                                            batch_size=32)\n",
        "test = tf.keras.preprocessing.image_dataset_from_directory(data,\n",
        "                                                           validation_split=0.2,\n",
        "                                                           seed=123,\n",
        "                                                           subset=\"validation\",\n",
        "                                                           image_size=(134,131),\n",
        "                                                           batch_size=32)\n"
      ],
      "metadata": {
        "id": "DdtAwn0p-3AE"
      },
      "execution_count": null,
      "outputs": []
    },
    {
      "cell_type": "code",
      "source": [
        "test.class_names"
      ],
      "metadata": {
        "id": "7ySxoHz7-3Kq"
      },
      "execution_count": null,
      "outputs": []
    },
    {
      "cell_type": "code",
      "source": [
        "# import the libraries as shown below\n",
        "\n",
        "from tensorflow.keras.layers import Input, Lambda, Dense, Flatten,Conv2D\n",
        "from tensorflow.keras.models import Model\n",
        "from tensorflow.keras.applications.vgg19 import VGG19\n",
        "from tensorflow.keras.applications.resnet50 import preprocess_input\n",
        "from tensorflow.keras.preprocessing import image\n",
        "from tensorflow.keras.preprocessing.image import ImageDataGenerator,load_img\n",
        "from tensorflow.keras.models import Sequential\n",
        "import numpy as np\n",
        "from glob import glob\n",
        "import matplotlib.pyplot as plt\n"
      ],
      "metadata": {
        "id": "Mi-pUi1j-3Vg"
      },
      "execution_count": null,
      "outputs": []
    },
    {
      "cell_type": "code",
      "source": [
        "# defining sequential model\n",
        "model = Sequential()\n",
        "\n",
        "#adding convo-pool layers\n",
        "model.add(Conv2D(filters=32, kernel_size=(3,3),input_shape=(134,131,3),activation='relu',padding=\"same\"))\n",
        "model.add(MaxPooling2D(pool_size=(2,2),strides=2))\n",
        "model.add(Conv2D(filters=64, kernel_size=(3,3),input_shape=(134,131,3),activation='relu',padding=\"same\"))\n",
        "model.add(MaxPooling2D(pool_size=(2,2),strides=2))\n",
        "model.add(Conv2D(filters=128, kernel_size=(3,3),input_shape=(134,131,3),activation='relu',padding=\"same\"))\n",
        "model.add(MaxPooling2D(pool_size=(2,2),strides=2))\n",
        "model.add(Conv2D(filters=256, kernel_size=(3,3),input_shape=(134,131,3),activation='relu',padding=\"same\"))\n",
        "model.add(MaxPooling2D(pool_size=(2,2),strides=2))\n",
        "\n",
        "# flattening image\n",
        "model.add(Flatten())\n",
        "\n",
        "# adding dense layers\n",
        "model.add(Dense(128,activation='relu'))\n",
        "# adding dropout to minimize overfitting issue\n",
        "model.add(Dropout(0.2))\n",
        "model.add(Dense(50,activation='relu'))\n",
        "model.add(Dropout(0.2))\n",
        "model.add(Dense(1,activation='sigmoid'))\n",
        "\n",
        "#compiling the model\n",
        "model.compile(loss='binary_crossentropy',optimizer='adam' ,metrics=[\"accuracy\"])\n",
        "\n",
        "#summary of the model\n",
        "model.summary()"
      ],
      "metadata": {
        "id": "pldzjG3M-3eR"
      },
      "execution_count": null,
      "outputs": []
    },
    {
      "cell_type": "code",
      "source": [
        "early_stop = EarlyStopping(monitor=\"val_loss\",patience=5, verbose=True)\n"
      ],
      "metadata": {
        "id": "1J4sOUFz-3oW"
      },
      "execution_count": null,
      "outputs": []
    },
    {
      "cell_type": "code",
      "source": [
        "history = model.fit(train,validation_data=test,epochs=11,callbacks=[early_stop],verbose=True)\n"
      ],
      "metadata": {
        "id": "xlHwy0Yg-3wf"
      },
      "execution_count": null,
      "outputs": []
    },
    {
      "cell_type": "code",
      "source": [
        "import matplotlib.pyplot as plt\n",
        "# plot the loss\n",
        "plt.plot(history.history['loss'], label='train loss')\n",
        "plt.plot(history.history['val_loss'], label='val loss')\n",
        "plt.legend()\n",
        "plt.show()\n",
        "plt.savefig('LossVal_loss')\n",
        "\n",
        "# plot the accuracy\n",
        "plt.plot(history.history['accuracy'], label='train acc')\n",
        "plt.plot(history.history['val_accuracy'], label='val acc')\n",
        "plt.legend()\n",
        "plt.show()\n",
        "plt.savefig('AccVal_acc'"
      ],
      "metadata": {
        "id": "eSu4fk5C-vf1"
      },
      "execution_count": null,
      "outputs": []
    }
  ]
}