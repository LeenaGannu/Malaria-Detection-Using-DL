{
  "nbformat": 4,
  "nbformat_minor": 0,
  "metadata": {
    "colab": {
      "name": "MalariaDetection.ipynb",
      "provenance": [],
      "collapsed_sections": [],
      "include_colab_link": true
    },
    "kernelspec": {
      "name": "python3",
      "display_name": "Python 3"
    },
    "language_info": {
      "name": "python"
    }
  },
  "cells": [
    {
      "cell_type": "markdown",
      "metadata": {
        "id": "view-in-github",
        "colab_type": "text"
      },
      "source": [
        "<a href=\"https://colab.research.google.com/github/LeenaGannu/Malaria-Detection-Using-DL/blob/main/MalariaDetection.ipynb\" target=\"_parent\"><img src=\"https://colab.research.google.com/assets/colab-badge.svg\" alt=\"Open In Colab\"/></a>"
      ]
    },
    {
      "cell_type": "code",
      "metadata": {
        "id": "CtOw-CKgYt2S"
      },
      "source": [
        "\n",
        "# import the libraries as shown below\n",
        "\n",
        "from tensorflow.keras.layers import Input, Lambda, Dense, Flatten,Conv2D\n",
        "from tensorflow.keras.models import Model\n",
        "from tensorflow.keras.applications.vgg19 import VGG19\n",
        "from tensorflow.keras.applications.resnet50 import preprocess_input\n",
        "from tensorflow.keras.preprocessing import image\n",
        "from tensorflow.keras.preprocessing.image import ImageDataGenerator,load_img\n",
        "from tensorflow.keras.models import Sequential\n",
        "import numpy as np\n",
        "from glob import glob\n",
        "import matplotlib.pyplot as plt"
      ],
      "execution_count": 1,
      "outputs": []
    },
    {
      "cell_type": "code",
      "metadata": {
        "id": "Lm8SZhS6ccoK"
      },
      "source": [
        "# re-size all the images to this\n",
        "IMAGE_SIZE = [224, 224]\n",
        "\n",
        "train_path = '/content/drive/MyDrive/Dataset/Train'\n",
        "valid_path = '/content/drive/MyDrive/Dataset/Test'"
      ],
      "execution_count": null,
      "outputs": []
    },
    {
      "cell_type": "code",
      "metadata": {
        "id": "_4S6mxlbdlcK",
        "colab": {
          "base_uri": "https://localhost:8080/"
        },
        "outputId": "dbea1c10-ff02-4b75-b532-1fa3ac470dc9"
      },
      "source": [
        "# Import the Vgg 19 library as shown below and add preprocessing layer to the front of VGG\n",
        "# Here we will be using imagenet weights\n",
        "\n",
        "vgg19 = VGG19(input_shape=IMAGE_SIZE + [3], weights='imagenet', include_top=False)"
      ],
      "execution_count": null,
      "outputs": [
        {
          "output_type": "stream",
          "text": [
            "Downloading data from https://storage.googleapis.com/tensorflow/keras-applications/vgg19/vgg19_weights_tf_dim_ordering_tf_kernels_notop.h5\n",
            "80142336/80134624 [==============================] - 1s 0us/step\n"
          ],
          "name": "stdout"
        }
      ]
    },
    {
      "cell_type": "code",
      "metadata": {
        "id": "sV1ucsV-dr7A"
      },
      "source": [
        "# don't train existing weights\n",
        "for layer in vgg19.layers:\n",
        "    layer.trainable = False"
      ],
      "execution_count": null,
      "outputs": []
    },
    {
      "cell_type": "code",
      "metadata": {
        "id": "p8-Rv71Zdz5t"
      },
      "source": [
        "\n",
        "# useful for getting number of output classes\n",
        "folders = glob('/content/drive/MyDrive/Dataset/Train/*')"
      ],
      "execution_count": null,
      "outputs": []
    },
    {
      "cell_type": "code",
      "metadata": {
        "colab": {
          "base_uri": "https://localhost:8080/"
        },
        "id": "sNmasQkTd8Ma",
        "outputId": "fbcb76cd-1411-471a-a4b3-a7c156c5b9d8"
      },
      "source": [
        "folders"
      ],
      "execution_count": null,
      "outputs": [
        {
          "output_type": "execute_result",
          "data": {
            "text/plain": [
              "['/content/drive/MyDrive/Dataset/Train/Uninfected',\n",
              " '/content/drive/MyDrive/Dataset/Train/Parasite']"
            ]
          },
          "metadata": {
            "tags": []
          },
          "execution_count": 6
        }
      ]
    },
    {
      "cell_type": "code",
      "metadata": {
        "id": "xOzrV3SHebaq"
      },
      "source": [
        "# our layers - you can add more if you want\n",
        "x = Flatten()(vgg19.output)"
      ],
      "execution_count": null,
      "outputs": []
    },
    {
      "cell_type": "code",
      "metadata": {
        "id": "kREj4hxpeAV-"
      },
      "source": [
        "prediction = Dense(len(folders), activation='softmax')(x)\n",
        "\n",
        "# create a model object\n",
        "model = Model(inputs=vgg19.input, outputs=prediction)"
      ],
      "execution_count": null,
      "outputs": []
    },
    {
      "cell_type": "code",
      "metadata": {
        "colab": {
          "base_uri": "https://localhost:8080/"
        },
        "id": "S45u4dnweV-J",
        "outputId": "cabea31a-0514-466f-a4c1-70cec3aecacf"
      },
      "source": [
        "\n",
        "model.summary()"
      ],
      "execution_count": null,
      "outputs": [
        {
          "output_type": "stream",
          "text": [
            "Model: \"model\"\n",
            "_________________________________________________________________\n",
            "Layer (type)                 Output Shape              Param #   \n",
            "=================================================================\n",
            "input_1 (InputLayer)         [(None, 224, 224, 3)]     0         \n",
            "_________________________________________________________________\n",
            "block1_conv1 (Conv2D)        (None, 224, 224, 64)      1792      \n",
            "_________________________________________________________________\n",
            "block1_conv2 (Conv2D)        (None, 224, 224, 64)      36928     \n",
            "_________________________________________________________________\n",
            "block1_pool (MaxPooling2D)   (None, 112, 112, 64)      0         \n",
            "_________________________________________________________________\n",
            "block2_conv1 (Conv2D)        (None, 112, 112, 128)     73856     \n",
            "_________________________________________________________________\n",
            "block2_conv2 (Conv2D)        (None, 112, 112, 128)     147584    \n",
            "_________________________________________________________________\n",
            "block2_pool (MaxPooling2D)   (None, 56, 56, 128)       0         \n",
            "_________________________________________________________________\n",
            "block3_conv1 (Conv2D)        (None, 56, 56, 256)       295168    \n",
            "_________________________________________________________________\n",
            "block3_conv2 (Conv2D)        (None, 56, 56, 256)       590080    \n",
            "_________________________________________________________________\n",
            "block3_conv3 (Conv2D)        (None, 56, 56, 256)       590080    \n",
            "_________________________________________________________________\n",
            "block3_conv4 (Conv2D)        (None, 56, 56, 256)       590080    \n",
            "_________________________________________________________________\n",
            "block3_pool (MaxPooling2D)   (None, 28, 28, 256)       0         \n",
            "_________________________________________________________________\n",
            "block4_conv1 (Conv2D)        (None, 28, 28, 512)       1180160   \n",
            "_________________________________________________________________\n",
            "block4_conv2 (Conv2D)        (None, 28, 28, 512)       2359808   \n",
            "_________________________________________________________________\n",
            "block4_conv3 (Conv2D)        (None, 28, 28, 512)       2359808   \n",
            "_________________________________________________________________\n",
            "block4_conv4 (Conv2D)        (None, 28, 28, 512)       2359808   \n",
            "_________________________________________________________________\n",
            "block4_pool (MaxPooling2D)   (None, 14, 14, 512)       0         \n",
            "_________________________________________________________________\n",
            "block5_conv1 (Conv2D)        (None, 14, 14, 512)       2359808   \n",
            "_________________________________________________________________\n",
            "block5_conv2 (Conv2D)        (None, 14, 14, 512)       2359808   \n",
            "_________________________________________________________________\n",
            "block5_conv3 (Conv2D)        (None, 14, 14, 512)       2359808   \n",
            "_________________________________________________________________\n",
            "block5_conv4 (Conv2D)        (None, 14, 14, 512)       2359808   \n",
            "_________________________________________________________________\n",
            "block5_pool (MaxPooling2D)   (None, 7, 7, 512)         0         \n",
            "_________________________________________________________________\n",
            "flatten (Flatten)            (None, 25088)             0         \n",
            "_________________________________________________________________\n",
            "dense (Dense)                (None, 2)                 50178     \n",
            "=================================================================\n",
            "Total params: 20,074,562\n",
            "Trainable params: 50,178\n",
            "Non-trainable params: 20,024,384\n",
            "_________________________________________________________________\n"
          ],
          "name": "stdout"
        }
      ]
    },
    {
      "cell_type": "code",
      "metadata": {
        "id": "vQ9I0GVVelTQ"
      },
      "source": [
        "# tell the model what cost and optimization method to use\n",
        "model.compile(\n",
        "  loss='categorical_crossentropy',\n",
        "  optimizer='adam',\n",
        "  metrics=['accuracy']\n",
        ")"
      ],
      "execution_count": null,
      "outputs": []
    },
    {
      "cell_type": "code",
      "metadata": {
        "id": "THL3EUOSerEW"
      },
      "source": [
        "# Use the Image Data Generator to import the images from the dataset\n",
        "from tensorflow.keras.preprocessing.image import ImageDataGenerator\n",
        "\n",
        "train_datagen = ImageDataGenerator(rescale = 1./255,\n",
        "                                   shear_range = 0.2,\n",
        "                                   zoom_range = 0.2,\n",
        "                                   horizontal_flip = True)\n",
        "\n",
        "test_datagen = ImageDataGenerator(rescale = 1./255)"
      ],
      "execution_count": null,
      "outputs": []
    },
    {
      "cell_type": "code",
      "metadata": {
        "colab": {
          "base_uri": "https://localhost:8080/"
        },
        "id": "7XoKBVTnevjj",
        "outputId": "2b1f70c3-e5ac-47ea-fb4b-ba619652a352"
      },
      "source": [
        "# Make sure you provide the same target size as initialied for the image size\n",
        "training_set = train_datagen.flow_from_directory('/content/drive/MyDrive/Dataset/Train',\n",
        "                                                 target_size = (224, 224),\n",
        "                                                 batch_size = 32,\n",
        "                                                 class_mode = 'categorical')"
      ],
      "execution_count": null,
      "outputs": [
        {
          "output_type": "stream",
          "text": [
            "Found 416 images belonging to 2 classes.\n"
          ],
          "name": "stdout"
        }
      ]
    },
    {
      "cell_type": "code",
      "metadata": {
        "colab": {
          "base_uri": "https://localhost:8080/"
        },
        "id": "0j4cbqSSezC6",
        "outputId": "23e9732a-1bde-4ce3-c306-6d69fd439844"
      },
      "source": [
        "training_set"
      ],
      "execution_count": null,
      "outputs": [
        {
          "output_type": "execute_result",
          "data": {
            "text/plain": [
              "<tensorflow.python.keras.preprocessing.image.DirectoryIterator at 0x7f11bf8784d0>"
            ]
          },
          "metadata": {
            "tags": []
          },
          "execution_count": 13
        }
      ]
    },
    {
      "cell_type": "code",
      "metadata": {
        "colab": {
          "base_uri": "https://localhost:8080/"
        },
        "id": "8cMT1ZH9fCiV",
        "outputId": "3ff9b868-3ceb-4e90-c9af-685cb12dbad6"
      },
      "source": [
        "test_set = test_datagen.flow_from_directory('/content/drive/MyDrive/Dataset/Test',\n",
        "                                            target_size = (224, 224),\n",
        "                                            batch_size = 32,\n",
        "                                            class_mode = 'categorical')"
      ],
      "execution_count": null,
      "outputs": [
        {
          "output_type": "stream",
          "text": [
            "Found 134 images belonging to 2 classes.\n"
          ],
          "name": "stdout"
        }
      ]
    },
    {
      "cell_type": "code",
      "metadata": {
        "id": "sIOOH0sjZLFY"
      },
      "source": [
        "from tensorflow.keras.callbacks import EarlyStopping\n",
        "early_stop = EarlyStopping(monitor=\"val_loss\",patience=5, verbose=True)\n"
      ],
      "execution_count": null,
      "outputs": []
    },
    {
      "cell_type": "code",
      "metadata": {
        "id": "de88cOMMfFtd",
        "colab": {
          "base_uri": "https://localhost:8080/"
        },
        "outputId": "cf0c3e35-abee-4698-9d94-898600f20091"
      },
      "source": [
        "# fit the model\n",
        "# Run the cell. It will take some time to execute\n",
        "r = model.fit_generator(\n",
        "  training_set,\n",
        "  validation_data=test_set,\n",
        "  epochs=4,\n",
        "  steps_per_epoch=len(training_set),\n",
        "  validation_steps=len(test_set),\n",
        "  callbacks=[early_stop],verbose=True\n",
        ")"
      ],
      "execution_count": null,
      "outputs": [
        {
          "output_type": "stream",
          "text": [
            "/usr/local/lib/python3.7/dist-packages/tensorflow/python/keras/engine/training.py:1940: UserWarning: `Model.fit_generator` is deprecated and will be removed in a future version. Please use `Model.fit`, which supports generators.\n",
            "  warnings.warn('`Model.fit_generator` is deprecated and '\n"
          ],
          "name": "stderr"
        },
        {
          "output_type": "stream",
          "text": [
            "Epoch 1/4\n",
            "13/13 [==============================] - 360s 27s/step - loss: 1.3983 - accuracy: 0.5048 - val_loss: 0.9371 - val_accuracy: 0.4478\n",
            "Epoch 2/4\n",
            "13/13 [==============================] - 342s 27s/step - loss: 0.6627 - accuracy: 0.6322 - val_loss: 0.5446 - val_accuracy: 0.7313\n",
            "Epoch 3/4\n",
            "13/13 [==============================] - 341s 27s/step - loss: 0.5442 - accuracy: 0.7236 - val_loss: 0.8396 - val_accuracy: 0.5896\n",
            "Epoch 4/4\n",
            "13/13 [==============================] - 341s 27s/step - loss: 0.4504 - accuracy: 0.7909 - val_loss: 0.4327 - val_accuracy: 0.7164\n"
          ],
          "name": "stdout"
        }
      ]
    },
    {
      "cell_type": "code",
      "metadata": {
        "colab": {
          "base_uri": "https://localhost:8080/",
          "height": 530
        },
        "id": "dEm6e67yfZNo",
        "outputId": "aad3d021-8223-4df4-ffdf-7ff34c162825"
      },
      "source": [
        "# plot the loss\n",
        "plt.plot(r.history['loss'], label='train loss')\n",
        "plt.plot(r.history['val_loss'], label='val loss')\n",
        "plt.legend()\n",
        "plt.show()\n",
        "plt.savefig('LossVal_loss')\n",
        "\n",
        "# plot the accuracy\n",
        "plt.plot(r.history['accuracy'], label='train acc')\n",
        "plt.plot(r.history['val_accuracy'], label='val acc')\n",
        "plt.legend()\n",
        "plt.show()\n",
        "plt.savefig('AccVal_acc')"
      ],
      "execution_count": null,
      "outputs": [
        {
          "output_type": "display_data",
          "data": {
            "image/png": "[encoded data removed]",
            "text/plain": [
              "<Figure size 432x288 with 1 Axes>"
            ]
          },
          "metadata": {
            "tags": [],
            "needs_background": "light"
          }
        },
        {
          "output_type": "display_data",
          "data": {
            "image/png": "[encoded data removed]",
            "text/plain": [
              "<Figure size 432x288 with 1 Axes>"
            ]
          },
          "metadata": {
            "tags": [],
            "needs_background": "light"
          }
        },
        {
          "output_type": "display_data",
          "data": {
            "text/plain": [
              "<Figure size 432x288 with 0 Axes>"
            ]
          },
          "metadata": {
            "tags": []
          }
        }
      ]
    },
    {
      "cell_type": "code",
      "metadata": {
        "id": "vdqHF8PJnKH1"
      },
      "source": [
        "# save it as a h5 file\n",
        "\n",
        "\n",
        "from tensorflow.keras.models import load_model\n",
        "\n",
        "model.save('model_vgg19.h5')"
      ],
      "execution_count": null,
      "outputs": []
    },
    {
      "cell_type": "code",
      "metadata": {
        "id": "LA4iIBdMnQvn"
      },
      "source": [
        "y_pred = model.predict(test_set)"
      ],
      "execution_count": null,
      "outputs": []
    },
    {
      "cell_type": "code",
      "metadata": {
        "colab": {
          "base_uri": "https://localhost:8080/"
        },
        "id": "Y8ILknpBnUnO",
        "outputId": "482d5a0d-4867-423f-98be-d73f40872b73"
      },
      "source": [
        "y_pred"
      ],
      "execution_count": null,
      "outputs": [
        {
          "output_type": "execute_result",
          "data": {
            "text/plain": [
              "array([[0.7395537 , 0.26044634],\n",
              "       [0.23922461, 0.7607753 ],\n",
              "       [0.91565317, 0.08434685],\n",
              "       [0.8738484 , 0.12615165],\n",
              "       [0.44199833, 0.55800164],\n",
              "       [0.59732443, 0.40267554],\n",
              "       [0.16574576, 0.8342542 ],\n",
              "       [0.32770717, 0.67229277],\n",
              "       [0.6980551 , 0.30194497],\n",
              "       [0.8194302 , 0.18056987],\n",
              "       [0.54775983, 0.4522402 ],\n",
              "       [0.22170202, 0.778298  ],\n",
              "       [0.339607  , 0.660393  ],\n",
              "       [0.7366009 , 0.26339912],\n",
              "       [0.3394392 , 0.6605608 ],\n",
              "       [0.40020496, 0.599795  ],\n",
              "       [0.7947404 , 0.2052596 ],\n",
              "       [0.38214302, 0.617857  ],\n",
              "       [0.94979095, 0.050209  ],\n",
              "       [0.38534564, 0.61465436],\n",
              "       [0.9546638 , 0.04533624],\n",
              "       [0.4387846 , 0.5612154 ],\n",
              "       [0.7912211 , 0.20877895],\n",
              "       [0.6662887 , 0.33371127],\n",
              "       [0.51190704, 0.48809302],\n",
              "       [0.6408779 , 0.3591221 ],\n",
              "       [0.3562209 , 0.6437791 ],\n",
              "       [0.29008046, 0.7099195 ],\n",
              "       [0.6056747 , 0.39432526],\n",
              "       [0.2206561 , 0.77934396],\n",
              "       [0.35251954, 0.6474805 ],\n",
              "       [0.9249874 , 0.07501263],\n",
              "       [0.77483124, 0.22516882],\n",
              "       [0.58803153, 0.41196847],\n",
              "       [0.24268569, 0.75731426],\n",
              "       [0.7394473 , 0.26055273],\n",
              "       [0.89707124, 0.10292881],\n",
              "       [0.8343297 , 0.16567028],\n",
              "       [0.55093914, 0.44906092],\n",
              "       [0.24523023, 0.7547698 ],\n",
              "       [0.9116879 , 0.08831213],\n",
              "       [0.44710645, 0.55289364],\n",
              "       [0.43971837, 0.56028163],\n",
              "       [0.9974468 , 0.00255326],\n",
              "       [0.9107358 , 0.08926424],\n",
              "       [0.1809397 , 0.8190603 ],\n",
              "       [0.95736605, 0.04263392],\n",
              "       [0.6277972 , 0.37220278],\n",
              "       [0.3503268 , 0.64967316],\n",
              "       [0.8254066 , 0.1745934 ],\n",
              "       [0.6054312 , 0.39456877],\n",
              "       [0.818228  , 0.18177196],\n",
              "       [0.9205352 , 0.07946479],\n",
              "       [0.7145495 , 0.28545052],\n",
              "       [0.96171534, 0.03828464],\n",
              "       [0.2531659 , 0.7468341 ],\n",
              "       [0.43728295, 0.562717  ],\n",
              "       [0.35590973, 0.6440903 ],\n",
              "       [0.5757445 , 0.42425552],\n",
              "       [0.3433867 , 0.6566133 ],\n",
              "       [0.9216218 , 0.07837826],\n",
              "       [0.23554766, 0.7644524 ],\n",
              "       [0.70112574, 0.29887426],\n",
              "       [0.9533382 , 0.04666182],\n",
              "       [0.45499772, 0.5450023 ],\n",
              "       [0.90535104, 0.09464893],\n",
              "       [0.897079  , 0.10292104],\n",
              "       [0.4412479 , 0.5587521 ],\n",
              "       [0.5372405 , 0.4627594 ],\n",
              "       [0.7499361 , 0.250064  ],\n",
              "       [0.36447597, 0.63552403],\n",
              "       [0.34959784, 0.6504021 ],\n",
              "       [0.871889  , 0.12811098],\n",
              "       [0.7617963 , 0.23820369],\n",
              "       [0.40576345, 0.59423655],\n",
              "       [0.29372856, 0.7062714 ],\n",
              "       [0.61209697, 0.387903  ],\n",
              "       [0.28546932, 0.7145306 ],\n",
              "       [0.5388715 , 0.4611285 ],\n",
              "       [0.972659  , 0.027341  ],\n",
              "       [0.8823146 , 0.11768537],\n",
              "       [0.48189995, 0.5181001 ],\n",
              "       [0.41422102, 0.58577895],\n",
              "       [0.4446517 , 0.55534834],\n",
              "       [0.5955118 , 0.4044882 ],\n",
              "       [0.47839814, 0.5216018 ],\n",
              "       [0.36553597, 0.634464  ],\n",
              "       [0.9686839 , 0.03131605],\n",
              "       [0.99133354, 0.00866639],\n",
              "       [0.44201016, 0.55798984],\n",
              "       [0.42441565, 0.57558435],\n",
              "       [0.4989235 , 0.50107646],\n",
              "       [0.9531097 , 0.04689032],\n",
              "       [0.7095626 , 0.29043737],\n",
              "       [0.7098768 , 0.29012325],\n",
              "       [0.86984205, 0.13015793],\n",
              "       [0.5737791 , 0.4262209 ],\n",
              "       [0.6682364 , 0.33176357],\n",
              "       [0.8931506 , 0.1068494 ],\n",
              "       [0.343338  , 0.6566619 ],\n",
              "       [0.98882335, 0.01117658],\n",
              "       [0.5679898 , 0.4320102 ],\n",
              "       [0.9884548 , 0.01154513],\n",
              "       [0.28416938, 0.71583056],\n",
              "       [0.6257897 , 0.3742104 ],\n",
              "       [0.1773606 , 0.8226394 ],\n",
              "       [0.3818186 , 0.6181814 ],\n",
              "       [0.41389564, 0.58610433],\n",
              "       [0.71047944, 0.2895206 ],\n",
              "       [0.5538501 , 0.44614986],\n",
              "       [0.35806382, 0.6419362 ],\n",
              "       [0.98853976, 0.01146024],\n",
              "       [0.9790222 , 0.02097783],\n",
              "       [0.64513916, 0.35486087],\n",
              "       [0.23571388, 0.7642861 ],\n",
              "       [0.9511042 , 0.04889583],\n",
              "       [0.42412388, 0.5758761 ],\n",
              "       [0.34970966, 0.65029025],\n",
              "       [0.99026614, 0.00973384],\n",
              "       [0.7325501 , 0.26744992],\n",
              "       [0.93713444, 0.06286556],\n",
              "       [0.94027805, 0.05972193],\n",
              "       [0.9985864 , 0.00141358],\n",
              "       [0.9665932 , 0.03340676],\n",
              "       [0.8886627 , 0.11133733],\n",
              "       [0.95971   , 0.04028998],\n",
              "       [0.984874  , 0.01512608],\n",
              "       [0.98680127, 0.01319879],\n",
              "       [0.16384543, 0.8361546 ],\n",
              "       [0.9801602 , 0.01983976],\n",
              "       [0.51833403, 0.48166597],\n",
              "       [0.67477065, 0.3252293 ],\n",
              "       [0.9479809 , 0.05201907],\n",
              "       [0.6719423 , 0.3280577 ]], dtype=float32)"
            ]
          },
          "metadata": {
            "tags": []
          },
          "execution_count": 31
        }
      ]
    },
    {
      "cell_type": "code",
      "metadata": {
        "id": "2qp1bam_n8Ge"
      },
      "source": [
        "from tensorflow.keras.models import load_model\n",
        "from tensorflow.keras.preprocessing import image"
      ],
      "execution_count": null,
      "outputs": []
    },
    {
      "cell_type": "code",
      "metadata": {
        "id": "f1t0YQSGoBVl"
      },
      "source": [
        "model=load_model('model_vgg19.h5')"
      ],
      "execution_count": null,
      "outputs": []
    },
    {
      "cell_type": "code",
      "metadata": {
        "id": "-KZf-SNgoENR"
      },
      "source": [
        "img=image.load_img('/content/drive/MyDrive/Dataset/Test/Uninfected/2.png',target_size=(224,224))"
      ],
      "execution_count": null,
      "outputs": []
    },
    {
      "cell_type": "code",
      "metadata": {
        "colab": {
          "base_uri": "https://localhost:8080/"
        },
        "id": "RntADwp2oGg0",
        "outputId": "38fe968e-418d-4158-d892-c5da5b620d09"
      },
      "source": [
        "\n",
        "x=image.img_to_array(img)\n",
        "x"
      ],
      "execution_count": null,
      "outputs": [
        {
          "output_type": "execute_result",
          "data": {
            "text/plain": [
              "array([[[0., 0., 0.],\n",
              "        [0., 0., 0.],\n",
              "        [0., 0., 0.],\n",
              "        ...,\n",
              "        [0., 0., 0.],\n",
              "        [0., 0., 0.],\n",
              "        [0., 0., 0.]],\n",
              "\n",
              "       [[0., 0., 0.],\n",
              "        [0., 0., 0.],\n",
              "        [0., 0., 0.],\n",
              "        ...,\n",
              "        [0., 0., 0.],\n",
              "        [0., 0., 0.],\n",
              "        [0., 0., 0.]],\n",
              "\n",
              "       [[0., 0., 0.],\n",
              "        [0., 0., 0.],\n",
              "        [0., 0., 0.],\n",
              "        ...,\n",
              "        [0., 0., 0.],\n",
              "        [0., 0., 0.],\n",
              "        [0., 0., 0.]],\n",
              "\n",
              "       ...,\n",
              "\n",
              "       [[0., 0., 0.],\n",
              "        [0., 0., 0.],\n",
              "        [0., 0., 0.],\n",
              "        ...,\n",
              "        [0., 0., 0.],\n",
              "        [0., 0., 0.],\n",
              "        [0., 0., 0.]],\n",
              "\n",
              "       [[0., 0., 0.],\n",
              "        [0., 0., 0.],\n",
              "        [0., 0., 0.],\n",
              "        ...,\n",
              "        [0., 0., 0.],\n",
              "        [0., 0., 0.],\n",
              "        [0., 0., 0.]],\n",
              "\n",
              "       [[0., 0., 0.],\n",
              "        [0., 0., 0.],\n",
              "        [0., 0., 0.],\n",
              "        ...,\n",
              "        [0., 0., 0.],\n",
              "        [0., 0., 0.],\n",
              "        [0., 0., 0.]]], dtype=float32)"
            ]
          },
          "metadata": {
            "tags": []
          },
          "execution_count": 36
        }
      ]
    },
    {
      "cell_type": "code",
      "metadata": {
        "colab": {
          "base_uri": "https://localhost:8080/"
        },
        "id": "Xz9YAiYdoVVp",
        "outputId": "9f861bcf-339f-4209-a7ff-f6e57f561169"
      },
      "source": [
        "x.shape"
      ],
      "execution_count": null,
      "outputs": [
        {
          "output_type": "execute_result",
          "data": {
            "text/plain": [
              "(224, 224, 3)"
            ]
          },
          "metadata": {
            "tags": []
          },
          "execution_count": 37
        }
      ]
    },
    {
      "cell_type": "code",
      "metadata": {
        "id": "8KUO_tc2oZOP"
      },
      "source": [
        "x=x/255\n"
      ],
      "execution_count": null,
      "outputs": []
    },
    {
      "cell_type": "code",
      "metadata": {
        "colab": {
          "base_uri": "https://localhost:8080/"
        },
        "id": "GUIpR7YRodaP",
        "outputId": "7054b6f0-25ef-46df-dfa5-9cffc1744cf8"
      },
      "source": [
        "x=np.expand_dims(x,axis=0)\n",
        "img_data=preprocess_input(x)\n",
        "img_data.shape"
      ],
      "execution_count": null,
      "outputs": [
        {
          "output_type": "execute_result",
          "data": {
            "text/plain": [
              "(1, 224, 224, 3)"
            ]
          },
          "metadata": {
            "tags": []
          },
          "execution_count": 39
        }
      ]
    },
    {
      "cell_type": "code",
      "metadata": {
        "colab": {
          "base_uri": "https://localhost:8080/"
        },
        "id": "__S9DlnqogKV",
        "outputId": "6b629b5c-b902-41c0-e65f-1f0b03af07a0"
      },
      "source": [
        "model.predict(img_data)"
      ],
      "execution_count": null,
      "outputs": [
        {
          "output_type": "execute_result",
          "data": {
            "text/plain": [
              "array([[0.00397536, 0.9960246 ]], dtype=float32)"
            ]
          },
          "metadata": {
            "tags": []
          },
          "execution_count": 40
        }
      ]
    },
    {
      "cell_type": "code",
      "metadata": {
        "id": "_GinT2FPojMR"
      },
      "source": [
        "a=np.argmax(model.predict(img_data), axis=1)"
      ],
      "execution_count": null,
      "outputs": []
    },
    {
      "cell_type": "code",
      "metadata": {
        "colab": {
          "base_uri": "https://localhost:8080/"
        },
        "id": "ioQX2cZQom_C",
        "outputId": "5f71ba8b-c93c-49b8-82cb-dc38309a27b2"
      },
      "source": [
        "if(a==1):\n",
        "    print(\"Uninfected\")\n",
        "else:\n",
        "    print(\"Infected\")"
      ],
      "execution_count": null,
      "outputs": [
        {
          "output_type": "stream",
          "text": [
            "Uninfected\n"
          ],
          "name": "stdout"
        }
      ]
    }
  ]
}